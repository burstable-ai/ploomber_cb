{
 "cells": [
  {
   "cell_type": "markdown",
   "id": "324bd991-72a0-4a85-bce5-ad21af4c476c",
   "metadata": {},
   "source": [
    "# Ploomber\n",
    "\n",
    "## Implemented on Cloudburst"
   ]
  },
  {
   "cell_type": "markdown",
   "id": "563671af-9827-44db-817c-e96b40932904",
   "metadata": {},
   "source": [
    "### 1. Convert a Plooomber-styled notebook to a pipeline\n",
    "\n",
    "First, let's look at a Ploomber-compatible notebook. \n",
    "\n",
    "Select [This Link](./nb.ipynb) to browse the code, then select the **ploomber tutorial** tab to come back to this notebook.\n",
    "\n",
    "*Hint:* use `ctrl+shift+[` *and* `ctrl+shift+]` *to navigate the Cloudburst tabs. \n",
    "You can also drag the tabs into the workspace and tile them vertically and horizontally.*\n",
    "\n",
    "Note how the notebook is organized into 5 tasks, demarcated by `##` headings in markdown cells:\n",
    "\n",
    "\n",
    "    ## Load\n",
    "\n",
    "    ## Clean\n",
    "\n",
    "    ## Train test split\n",
    "\n",
    "    ## Linear regression\n",
    "\n",
    "    ## Random Forest Regressor\n",
    "    \n",
    "We use **Ploomber's** `soorgeon` tool to refactor our notebook into a pipeline:"
   ]
  },
  {
   "cell_type": "code",
   "execution_count": null,
   "id": "2dd3edb8-da35-4041-8575-aba84d13fbc8",
   "metadata": {},
   "outputs": [],
   "source": [
    "!soorgeon refactor nb.ipynb --file-format py"
   ]
  },
  {
   "cell_type": "markdown",
   "id": "4bbd5540-fde0-4250-854f-0658633f0c66",
   "metadata": {},
   "source": [
    "The command above will generate a pipeline.yaml with your pipeline declaration and .py tasks (one per section).\n",
    "\n",
    "You can also tell Soorgeon to generate tasks in notebook format instead of python files:\n",
    "\n",
    "    !soorgeon refactor nb.ipynb\n",
    "    \n",
    "For this tutorial we will use .py files. You can browse the generated files in Cloudburst's code editor:\n",
    "\n",
    "[Load](./tasks/load.py)\n",
    "\n",
    "[Clean](./tasks/clean.py)\n",
    "\n",
    "[Train](./tasks/train-test-split.py)\n",
    "\n",
    "[Linear Regression](./tasks/linear-regression.py)\n",
    "\n",
    "[Random Forest](./tasks/random-forest-regressor.py)"
   ]
  },
  {
   "cell_type": "markdown",
   "id": "ffd287ce-0159-47c0-a71c-74493d61719a",
   "metadata": {},
   "source": [
    "It's time to run the pipeline. This will produce some output so scroll down and wait for the status indicator at the bottom of the page to go from ***busy*** to ***idle***."
   ]
  },
  {
   "cell_type": "code",
   "execution_count": null,
   "id": "0667ea5d-a560-42b0-8093-0bf7859810f4",
   "metadata": {},
   "outputs": [],
   "source": [
    "!ploomber build"
   ]
  },
  {
   "cell_type": "markdown",
   "id": "421ca619-307b-4a47-b3f3-c4ad677f16b8",
   "metadata": {},
   "source": [
    "The generated files are in the **output/** directory:"
   ]
  },
  {
   "cell_type": "code",
   "execution_count": null,
   "id": "6132b525-a345-4c4d-840f-d02dee5c4279",
   "metadata": {},
   "outputs": [],
   "source": [
    "!ls output"
   ]
  },
  {
   "cell_type": "markdown",
   "id": "007b852d-3cb8-4e4c-bc69-8f9cd14d013f",
   "metadata": {},
   "source": [
    "We can plot the output graph:"
   ]
  },
  {
   "cell_type": "code",
   "execution_count": null,
   "id": "db59431b-0e8e-45b7-b7f4-9c9375b0795f",
   "metadata": {},
   "outputs": [],
   "source": [
    "!ploomber plot"
   ]
  },
  {
   "cell_type": "markdown",
   "id": "4ffab5b4-abb3-4106-abd7-74ce75a31279",
   "metadata": {},
   "source": [
    "And view it in Cloudburst: [plot](./pipeline.png)"
   ]
  }
 ],
 "metadata": {
  "kernelspec": {
   "display_name": "Python 3 (ipykernel)",
   "language": "python",
   "name": "python3"
  },
  "language_info": {
   "codemirror_mode": {
    "name": "ipython",
    "version": 3
   },
   "file_extension": ".py",
   "mimetype": "text/x-python",
   "name": "python",
   "nbconvert_exporter": "python",
   "pygments_lexer": "ipython3",
   "version": "3.8.1"
  }
 },
 "nbformat": 4,
 "nbformat_minor": 5
}
